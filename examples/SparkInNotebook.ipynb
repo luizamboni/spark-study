{
 "cells": [
  {
   "cell_type": "code",
   "execution_count": 1,
   "id": "14e42379",
   "metadata": {},
   "outputs": [],
   "source": [
    "from pyspark.sql import SparkSession\n",
    "\n",
    "from pyspark.sql.functions import explode\n",
    "from pyspark.sql.types import StructType, StructField, StringType, IntegerType, FloatType, ArrayType\n"
   ]
  },
  {
   "cell_type": "code",
   "execution_count": 2,
   "id": "083cfe87",
   "metadata": {},
   "outputs": [],
   "source": [
    "spark = SparkSession.builder \\\n",
    "        .config(\"spark.eventLog.enabled\", \"true\") \\\n",
    "        .config(\"spark.eventLog.dir\", \"/tmp/spark-events/\") \\\n",
    "        .appName(\"explode-example\") \\\n",
    "        .getOrCreate()"
   ]
  },
  {
   "cell_type": "code",
   "execution_count": 3,
   "id": "74dbaeda",
   "metadata": {},
   "outputs": [],
   "source": [
    "data = [\n",
    "    (\n",
    "        \"asddfet-xasdf\", \n",
    "        0, \n",
    "        []\n",
    "    ),\n",
    "    (\n",
    "        \"kghjkhgj-xasdf\", \n",
    "        3, \n",
    "        [\n",
    "            (123, \"abc\", 1.5),\n",
    "            (122, \"ttrtr\", 0.5),\n",
    "            (124, \"gfrg\", 1.1),\n",
    "        ]\n",
    "    ),\n",
    "    (\n",
    "        \"asdfasd-xasdf\",\n",
    "        2, \n",
    "        [\n",
    "            (12, \"gfgf\", 1.4),\n",
    "            (1222, \"gf\", 1.1),\n",
    "        ]\n",
    "    )\n",
    "]\n",
    "schema = StructType([\n",
    "    StructField('id', StringType(), True),\n",
    "    StructField('products_count', IntegerType(), True),\n",
    "    StructField('products', \n",
    "        ArrayType(\n",
    "            StructType([\n",
    "                StructField('id', IntegerType(), True),\n",
    "                StructField('t', StringType(), True),\n",
    "                StructField('cpc', FloatType(), True),\n",
    "            ]), \n",
    "        )\n",
    "    )\n",
    "])\n",
    "\n",
    "df = spark.sparkContext.parallelize(data).toDF(schema)"
   ]
  },
  {
   "cell_type": "code",
   "execution_count": 4,
   "id": "3374f840",
   "metadata": {},
   "outputs": [],
   "source": [
    "df_products = df.where(\"products_count > 0\")\n",
    "\n",
    "df_exploded = df.select(\n",
    "                        explode(df_products.products).alias(\"product\"), \n",
    "                        \"*\"\n",
    "                       )\n",
    "\n",
    "df_product_attrs = df_exploded.select(\n",
    "                      df_exploded.product.id.alias(\"id\"), \n",
    "                      df_exploded.product.t.alias(\"name\"),\n",
    "                      df_exploded.product.cpc.alias(\"cpc\"),\n",
    "                      df_exploded.id.alias(\"impression_id\")\n",
    "                    )\n",
    "  \n",
    "# df_product_attrs.show()\n",
    "\n",
    "# df_product_attrs.printSchema()\n",
    "df_product_attrs.write.format('json').mode(\"overwrite\").save('/home/exploded-products.json')"
   ]
  },
  {
   "cell_type": "code",
   "execution_count": 5,
   "id": "03f81bf3",
   "metadata": {},
   "outputs": [],
   "source": [
    "# spark.stop()"
   ]
  },
  {
   "cell_type": "code",
   "execution_count": 6,
   "id": "dc1ffb82",
   "metadata": {},
   "outputs": [],
   "source": [
    "saved_df = spark.read.format('json').load('/home/exploded-products.json')"
   ]
  },
  {
   "cell_type": "code",
   "execution_count": 7,
   "id": "728c10a7",
   "metadata": {},
   "outputs": [
    {
     "name": "stdout",
     "output_type": "stream",
     "text": [
      "+---+----+--------------+-----+\n",
      "|cpc|  id| impression_id| name|\n",
      "+---+----+--------------+-----+\n",
      "|1.5| 123|kghjkhgj-xasdf|  abc|\n",
      "|0.5| 122|kghjkhgj-xasdf|ttrtr|\n",
      "|1.1| 124|kghjkhgj-xasdf| gfrg|\n",
      "|1.4|  12| asdfasd-xasdf| gfgf|\n",
      "|1.1|1222| asdfasd-xasdf|   gf|\n",
      "+---+----+--------------+-----+\n",
      "\n"
     ]
    }
   ],
   "source": [
    "saved_df.show()"
   ]
  },
  {
   "cell_type": "code",
   "execution_count": null,
   "id": "b8cfd9ec",
   "metadata": {},
   "outputs": [],
   "source": []
  }
 ],
 "metadata": {
  "kernelspec": {
   "display_name": "Python 3",
   "language": "python",
   "name": "python3"
  },
  "language_info": {
   "codemirror_mode": {
    "name": "ipython",
    "version": 3
   },
   "file_extension": ".py",
   "mimetype": "text/x-python",
   "name": "python",
   "nbconvert_exporter": "python",
   "pygments_lexer": "ipython3",
   "version": "3.6.15"
  }
 },
 "nbformat": 4,
 "nbformat_minor": 5
}
