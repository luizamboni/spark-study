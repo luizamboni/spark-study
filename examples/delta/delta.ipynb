{
 "cells": [
  {
   "cell_type": "code",
   "execution_count": 1,
   "id": "14e42379",
   "metadata": {},
   "outputs": [],
   "source": [
    "import os\n",
    "from pyspark.sql import SparkSession\n",
    "import pyspark\n",
    "from pyspark.sql.functions import explode\n",
    "from pyspark.sql.types import StructType, StructField, StringType, IntegerType, FloatType, ArrayType\n"
   ]
  },
  {
   "cell_type": "code",
   "execution_count": 2,
   "id": "083cfe87",
   "metadata": {},
   "outputs": [],
   "source": [
    "spark = SparkSession.builder \\\n",
    "        .config(\"spark.eventLog.enabled\", \"true\") \\\n",
    "        .config(\"spark.eventLog.dir\", \"/tmp/spark-events/\") \\\n",
    "        .config(\"spark.jars.packages\", \"io.delta:delta-core_2.12:1.0.1\") \\\n",
    "        .config(\"spark.sql.extensions\", \"io.delta.sql.DeltaSparkSessionExtension\") \\\n",
    "        .config(\"spark.sql.catalog.spark_catalog\", \"org.apache.spark.sql.delta.catalog.DeltaCatalog\") \\\n",
    "        .appName(\"delta-example\") \\\n",
    "        .getOrCreate()\n"
   ]
  },
  {
   "cell_type": "code",
   "execution_count": 3,
   "id": "03f81bf3",
   "metadata": {},
   "outputs": [],
   "source": [
    "from delta.tables import *"
   ]
  },
  {
   "cell_type": "code",
   "execution_count": 4,
   "id": "6245f2f7",
   "metadata": {},
   "outputs": [
    {
     "data": {
      "text/html": [
       "\n",
       "            <div>\n",
       "                <p><b>SparkSession - in-memory</b></p>\n",
       "                \n",
       "        <div>\n",
       "            <p><b>SparkContext</b></p>\n",
       "\n",
       "            <p><a href=\"http://9692d9cc65d8:4041\">Spark UI</a></p>\n",
       "\n",
       "            <dl>\n",
       "              <dt>Version</dt>\n",
       "                <dd><code>v3.1.2</code></dd>\n",
       "              <dt>Master</dt>\n",
       "                <dd><code>local[*]</code></dd>\n",
       "              <dt>AppName</dt>\n",
       "                <dd><code>delta-example</code></dd>\n",
       "            </dl>\n",
       "        </div>\n",
       "        \n",
       "            </div>\n",
       "        "
      ],
      "text/plain": [
       "<pyspark.sql.session.SparkSession at 0x40341ee860>"
      ]
     },
     "execution_count": 4,
     "metadata": {},
     "output_type": "execute_result"
    }
   ],
   "source": [
    "spark"
   ]
  },
  {
   "cell_type": "code",
   "execution_count": 5,
   "id": "728c10a7",
   "metadata": {},
   "outputs": [
    {
     "name": "stdout",
     "output_type": "stream",
     "text": [
      "+---+\n",
      "| id|\n",
      "+---+\n",
      "|  0|\n",
      "|  1|\n",
      "|  2|\n",
      "|  3|\n",
      "|  4|\n",
      "+---+\n",
      "\n"
     ]
    }
   ],
   "source": [
    "data = spark.range(0, 5)\n",
    "data.show()"
   ]
  },
  {
   "cell_type": "code",
   "execution_count": 9,
   "id": "68fad0ef",
   "metadata": {},
   "outputs": [],
   "source": [
    "path = \"/tmp/delta-table\""
   ]
  },
  {
   "cell_type": "code",
   "execution_count": 21,
   "id": "b8cfd9ec",
   "metadata": {},
   "outputs": [],
   "source": [
    "data.write.format(\"delta\").mode(\"overwrite\").save(path)"
   ]
  },
  {
   "cell_type": "code",
   "execution_count": 13,
   "id": "e74e6968",
   "metadata": {},
   "outputs": [
    {
     "name": "stdout",
     "output_type": "stream",
     "text": [
      "+---+\n",
      "| id|\n",
      "+---+\n",
      "|  0|\n",
      "|  1|\n",
      "|  2|\n",
      "|  3|\n",
      "|  4|\n",
      "+---+\n",
      "\n"
     ]
    }
   ],
   "source": [
    "df = spark.read.format(\"delta\").load(path)\n",
    "df.show()"
   ]
  },
  {
   "cell_type": "code",
   "execution_count": 6,
   "id": "8815d89b",
   "metadata": {},
   "outputs": [
    {
     "name": "stdout",
     "output_type": "stream",
     "text": [
      "_delta_log\r\n",
      "part-00000-c1401f89-2c33-4f97-aa47-0bfee59db96b-c000.snappy.parquet\r\n",
      "part-00001-71aa7ab8-5f04-4376-82df-5072abee01da-c000.snappy.parquet\r\n",
      "part-00003-fa5a319b-98eb-425c-b3c1-d7ce08d61577-c000.snappy.parquet\r\n",
      "part-00004-838a7822-d5bd-4e8f-88b7-47f72cd6fa49-c000.snappy.parquet\r\n",
      "part-00006-6fab2b44-c734-4e38-a828-19fa97ce88c2-c000.snappy.parquet\r\n",
      "part-00007-60447444-2241-4c4c-a854-2be7adac144f-c000.snappy.parquet\r\n"
     ]
    }
   ],
   "source": [
    "!ls /tmp/delta-table"
   ]
  },
  {
   "cell_type": "code",
   "execution_count": 7,
   "id": "b7ccf85c",
   "metadata": {},
   "outputs": [
    {
     "name": "stdout",
     "output_type": "stream",
     "text": [
      "00000000000000000000.json\r\n"
     ]
    }
   ],
   "source": [
    "!ls /tmp/delta-table/_delta_log"
   ]
  },
  {
   "cell_type": "code",
   "execution_count": 10,
   "id": "610fc601",
   "metadata": {},
   "outputs": [],
   "source": [
    "data = spark.range(5, 10)\n",
    "data.write.format(\"delta\").mode(\"overwrite\").save(path)"
   ]
  },
  {
   "cell_type": "code",
   "execution_count": 16,
   "id": "6ff454c8",
   "metadata": {},
   "outputs": [
    {
     "name": "stdout",
     "output_type": "stream",
     "text": [
      "_delta_log\r\n",
      "part-00000-2d5e0830-2b2f-45d8-a325-7007012ddd6a-c000.snappy.parquet\r\n",
      "part-00000-58d61cee-ae8d-42e9-a4bd-a8f6f24139bb-c000.snappy.parquet\r\n",
      "part-00001-5c5f39a5-3159-4936-8cde-1fd2b90b9289-c000.snappy.parquet\r\n",
      "part-00001-8d651d82-eb4c-445d-a888-df3f72dc2c62-c000.snappy.parquet\r\n",
      "part-00003-3cb127d7-5caf-4bde-9c83-ebed0fdf2291-c000.snappy.parquet\r\n",
      "part-00003-6817bcfb-e769-4fb9-b645-54fd71595058-c000.snappy.parquet\r\n",
      "part-00004-10c60768-bf0e-4810-af73-7c90fe913549-c000.snappy.parquet\r\n",
      "part-00004-8bc7ea50-b64a-4204-9ee8-39af45edee05-c000.snappy.parquet\r\n",
      "part-00006-11141901-a731-4f22-941e-9e0b0610b603-c000.snappy.parquet\r\n",
      "part-00006-eb124203-2f72-49b0-a541-80349b2f28c2-c000.snappy.parquet\r\n",
      "part-00007-291b8633-507b-4688-8f59-da4e4c005fe9-c000.snappy.parquet\r\n",
      "part-00007-f5d36757-af1c-420b-9efd-f327d326dc56-c000.snappy.parquet\r\n"
     ]
    }
   ],
   "source": [
    "!ls /tmp/delta-table"
   ]
  },
  {
   "cell_type": "code",
   "execution_count": 15,
   "id": "303d8d50",
   "metadata": {},
   "outputs": [
    {
     "name": "stdout",
     "output_type": "stream",
     "text": [
      "00000000000000000000.json  00000000000000000001.json\r\n"
     ]
    }
   ],
   "source": [
    "!ls /tmp/delta-table/_delta_log"
   ]
  },
  {
   "cell_type": "code",
   "execution_count": 22,
   "id": "0c7934a6",
   "metadata": {},
   "outputs": [
    {
     "name": "stdout",
     "output_type": "stream",
     "text": [
      "+---+\n",
      "| id|\n",
      "+---+\n",
      "|  7|\n",
      "|  9|\n",
      "|  5|\n",
      "|  6|\n",
      "|  8|\n",
      "+---+\n",
      "\n"
     ]
    }
   ],
   "source": [
    "df = spark.read.format(\"delta\").load(path)\n",
    "df.show()"
   ]
  },
  {
   "cell_type": "code",
   "execution_count": 33,
   "id": "f146880f",
   "metadata": {},
   "outputs": [
    {
     "name": "stdout",
     "output_type": "stream",
     "text": [
      "+---+\n",
      "| id|\n",
      "+---+\n",
      "|  7|\n",
      "|  9|\n",
      "|  5|\n",
      "+---+\n",
      "\n",
      "+---+\n",
      "| id|\n",
      "+---+\n",
      "| 15|\n",
      "|  2|\n",
      "| 19|\n",
      "| 10|\n",
      "| 11|\n",
      "|  1|\n",
      "|  6|\n",
      "| 18|\n",
      "|  0|\n",
      "|  4|\n",
      "| 14|\n",
      "| 12|\n",
      "|  8|\n",
      "| 17|\n",
      "| 13|\n",
      "| 16|\n",
      "|  7|\n",
      "|  5|\n",
      "|  9|\n",
      "|  3|\n",
      "+---+\n",
      "\n"
     ]
    }
   ],
   "source": [
    "from delta.tables import DeltaTable\n",
    "from pyspark.sql.functions import expr, col\n",
    "\n",
    "\n",
    "deltaTable = DeltaTable.forPath(spark, path)\n",
    "\n",
    "# look this is not a dataframe,\n",
    "# it a utility to handle DeltaTable ACID transactions\n",
    "deltaTable.toDF().show()\n",
    "\n",
    "# Update every even value by adding 100 to it\n",
    "deltaTable.update(\n",
    "  condition = expr(\"id % 2 == 0\"),\n",
    "  set = { \"id\": expr(\"id + 100\") })\n",
    "\n",
    "# Delete every even value\n",
    "deltaTable.delete(condition = expr(\"id % 2 == 0\"))\n",
    "\n",
    "# Upsert (merge) new data\n",
    "newData = spark.range(0, 20)\n",
    "\n",
    "deltaTable.alias(\"oldData\") \\\n",
    "  .merge(\n",
    "    newData.alias(\"newData\"),\n",
    "    \"oldData.id = newData.id\") \\\n",
    "  .whenMatchedUpdate(set = { \"id\": col(\"newData.id\") }) \\\n",
    "  .whenNotMatchedInsert(values = { \"id\": col(\"newData.id\") }) \\\n",
    "  .execute()\n",
    "\n",
    "deltaTable.toDF().show()"
   ]
  },
  {
   "cell_type": "code",
   "execution_count": 40,
   "id": "ca30b7d9",
   "metadata": {},
   "outputs": [
    {
     "name": "stdout",
     "output_type": "stream",
     "text": [
      "+---+\n",
      "| id|\n",
      "+---+\n",
      "| 15|\n",
      "|  2|\n",
      "| 19|\n",
      "| 10|\n",
      "| 11|\n",
      "|  1|\n",
      "|  6|\n",
      "| 18|\n",
      "|  0|\n",
      "|  4|\n",
      "| 14|\n",
      "| 12|\n",
      "|  8|\n",
      "| 17|\n",
      "| 13|\n",
      "| 16|\n",
      "|  7|\n",
      "|  5|\n",
      "|  9|\n",
      "|  3|\n",
      "+---+\n",
      "\n"
     ]
    }
   ],
   "source": [
    "df = spark.read.format(\"delta\").option(\"versionAsOf\", 6).load(path)\n",
    "df.show()"
   ]
  },
  {
   "cell_type": "code",
   "execution_count": 19,
   "id": "dc1ffb82",
   "metadata": {},
   "outputs": [],
   "source": [
    "# spark.stop()"
   ]
  }
 ],
 "metadata": {
  "kernelspec": {
   "display_name": "Python 3",
   "language": "python",
   "name": "python3"
  },
  "language_info": {
   "codemirror_mode": {
    "name": "ipython",
    "version": 3
   },
   "file_extension": ".py",
   "mimetype": "text/x-python",
   "name": "python",
   "nbconvert_exporter": "python",
   "pygments_lexer": "ipython3",
   "version": "3.6.15"
  }
 },
 "nbformat": 4,
 "nbformat_minor": 5
}
